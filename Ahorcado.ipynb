{
 "cells": [
  {
   "cell_type": "markdown",
   "metadata": {},
   "source": [
    "# Ahorcado"
   ]
  },
  {
   "cell_type": "code",
   "execution_count": 1,
   "metadata": {},
   "outputs": [
    {
     "name": "stdout",
     "output_type": "stream",
     "text": [
      "3\n"
     ]
    }
   ],
   "source": [
    "#Declaración del variables\n",
    "\n",
    "\n",
    "\n",
    "\n",
    "respuesta_num_jugadores = input(\"¿Cuántos jugadores sois?\")\n",
    "print(respuesta_num_jugadores)\n",
    "\n",
    "jugador1 = input(\"¿Cómo te llamas jugador 1?\")\n",
    "jugador2 = input(\"¿Cómo te llamas jugador 2?\")\n",
    "\n",
    "jugadores = [jugador1, jugador2]"
   ]
  }
 ],
 "metadata": {
  "kernelspec": {
   "display_name": "base",
   "language": "python",
   "name": "python3"
  },
  "language_info": {
   "codemirror_mode": {
    "name": "ipython",
    "version": 3
   },
   "file_extension": ".py",
   "mimetype": "text/x-python",
   "name": "python",
   "nbconvert_exporter": "python",
   "pygments_lexer": "ipython3",
   "version": "3.12.7"
  }
 },
 "nbformat": 4,
 "nbformat_minor": 2
}
