{
 "cells": [
  {
   "cell_type": "markdown",
   "metadata": {},
   "source": [
    "# Piedra, papel o tijera"
   ]
  },
  {
   "cell_type": "code",
   "execution_count": null,
   "metadata": {},
   "outputs": [
    {
     "name": "stdout",
     "output_type": "stream",
     "text": [
      "¡Bienvenid@ Ana!\n",
      "Tu elemento era: PIEDRA\n",
      "El elemento del contrincante era: PAPEL\n"
     ]
    }
   ],
   "source": [
    "import random\n",
    "\n",
    "#Declaración del variables\n",
    "piedra = \"PIEDRA\" #cambiar luego en el if para que no sea sensitive\n",
    "papel = \"PAPEL\"\n",
    "tijera = \"TIJERA\"\n",
    "\n",
    "#jugador1 = input(\"¿Cómo te llamas jugador 1?\")\n",
    "#jugador2 = input(\"¿Cómo te llamas jugador 2?\")\n",
    "#jugadores = [jugador1, jugador2]\n",
    "\n",
    "nombre_jugador = input(\"¿Cómo te llamas?\").title()\n",
    "#nombre_jugador_ordenado = nombre_jugador.title()\n",
    "print(\"¡Bienvenid@ \" + nombre_jugador + \"!\")\n",
    "\n",
    "seleccion_humano = input(\"¿Qué elemento elijes: puedra, papel o tijera?\").upper()\n",
    "#seleccion_humano_ordenado = seleccion_humano.upper()\n",
    "\n",
    "elementos_validos = [piedra, papel, tijera]\n",
    "seleccion_maquina = random.choice(elementos_validos)\n",
    "#seleccion_maquina_ordenado = seleccion_maquina.upper()\n",
    "\n",
    "\n",
    "\n",
    "\n",
    "print(\"Tu elemento era: \" + seleccion_humano_ordenado)\n",
    "print(\"El elemento del contrincante era: \" + seleccion_maquina)\n",
    "\n",
    "\n",
    "#Valores/función de las varibales\n",
    "#piedra > tijera\n",
    "#papel > piedra\n",
    "#tijera > papel\n",
    "\n",
    "#Elegir el elemento y transformarlo a como están declaradas las variables en el programa\n",
    "#respuesta_jugador1 = input(\"¿Qué elemento quieres?\")\n",
    "#respuesta_jugador_ordenado = respuesta_jugador1.title()\n",
    "\n"
   ]
  }
 ],
 "metadata": {
  "kernelspec": {
   "display_name": "base",
   "language": "python",
   "name": "python3"
  },
  "language_info": {
   "codemirror_mode": {
    "name": "ipython",
    "version": 3
   },
   "file_extension": ".py",
   "mimetype": "text/x-python",
   "name": "python",
   "nbconvert_exporter": "python",
   "pygments_lexer": "ipython3",
   "version": "3.12.7"
  }
 },
 "nbformat": 4,
 "nbformat_minor": 2
}
