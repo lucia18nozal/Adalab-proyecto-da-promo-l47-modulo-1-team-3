{
 "cells": [
  {
   "cell_type": "markdown",
   "metadata": {},
   "source": [
    "# Piedra, papel o tijera"
   ]
  },
  {
   "cell_type": "code",
   "execution_count": null,
   "metadata": {},
   "outputs": [
    {
     "name": "stdout",
     "output_type": "stream",
     "text": [
      "¡Bienvenido al juego de Piedra, Papel o Tijera!\n",
      "¡¡Hola Lucia!! Yo soy el contrincante virtual que vas a encontrar por lo que voy a intentar ganarte siempre, ¡espero que lo pasemos bien! El primero en ganar 3 rondas será el ganador del juego\n",
      "Tu elemento era: PIEDRA\n",
      "Mi elemento era: TIJERA\n",
      "¡¡¡Muy bien Lucia!!! Me has ganado esta ronda amig@ humano\n",
      "Puntuación: Lucia - 1 \n",
      " Contrincante Virtual - 0\n",
      "Tu elemento era: PAPEL\n",
      "Mi elemento era: PAPEL\n",
      "Empate amigo humano, ¡volvamos a intentarlo!\n",
      "Puntuación: Lucia - 1 \n",
      " Contrincante Virtual - 0\n",
      "Tu elemento era: TIJERA\n",
      "Mi elemento era: PAPEL\n",
      "¡¡¡Muy bien Lucia!!! Me has ganado esta ronda amig@ humano\n",
      "Puntuación: Lucia - 2 \n",
      " Contrincante Virtual - 0\n",
      "Tu elemento era: PAPEL\n",
      "Mi elemento era: PIEDRA\n",
      "¡¡¡Muy bien Lucia!!! Me has ganado esta ronda amig@ humano\n",
      "Puntuación: Lucia - 3 \n",
      " Contrincante Virtual - 0\n",
      "¡¡¡Felicidades Lucia!!! Me has ganado con una puntuación de 3 a 0.\n"
     ]
    }
   ],
   "source": [
    "import random\n",
    "\n",
    "# Declaración de variables en una lista\n",
    "elementos_validos = [\"PIEDRA\", \"PAPEL\", \"TIJERA\"]\n",
    "\n",
    "# Inicializar variables para las rondas ganadas\n",
    "rondas_humano = 0\n",
    "rondas_maquina = 0\n",
    "\n",
    "# Recogemos el nombre del jugador humano\n",
    "print(\"¡Bienvenido al juego de Piedra, Papel o Tijera!\")\n",
    "nombre_jugador = input(\"¿Cómo te llamas?\").strip().title()\n",
    "\n",
    "# En caso de no introducir nombre del jugador humano, se asigna uno por defecto\n",
    "if not nombre_jugador:\n",
    "    nombre_jugador = \"Jugador Anónimo\"\n",
    "\n",
    "print(f\"¡¡Hola {nombre_jugador}!! Yo soy el contrincante virtual que vas a encontrar por lo que voy a intentar ganarte siempre, ¡espero que lo pasemos bien! El primero en ganar 3 rondas será el ganador del juego\")\n",
    "\n",
    "# Contador de rondas ganadas por cada jugador\n",
    "while rondas_humano < 3 and rondas_maquina < 3:\n",
    "    # Recoger elemento elegido por jugador humano\n",
    "    seleccion_humano = input(\"¿Qué elemento eliges: piedra, papel o tijera?\").strip().upper()\n",
    "    \n",
    "    # Comprobación de que el elemento elegido por jugador humano sea correcto\n",
    "    if seleccion_humano not in elementos_validos:\n",
    "        print(\"El elemento introducido no está entre la selección permitida. Te recuerdo los elementos permitidos: piedra, papel o tijera.\")\n",
    "        # Recoger elemento elegido por jugador humano cuando antes lo ha introducido mal\n",
    "        seleccion_humano = input(\"¿Qué elemento eliges? \").upper()\n",
    "        continue  # Volver al inicio del bucle\n",
    "    \n",
    "    # Elección aleatoria de la máquina\n",
    "    seleccion_maquina = random.choice(elementos_validos)\n",
    "\n",
    "    # Mostrar elecciones de cada jugador\n",
    "    print(f\"Tu elemento era: {seleccion_humano}\")\n",
    "    print(f\"Mi elemento era: {seleccion_maquina}\")\n",
    "\n",
    "    # Determinación de puntos. \"Normas del juego\"\n",
    "    if seleccion_humano == seleccion_maquina:\n",
    "        print(\"Empate amigo humano, ¡volvamos a intentarlo!\")\n",
    "    elif (seleccion_humano == \"PIEDRA\" and seleccion_maquina == \"TIJERA\") or \\\n",
    "         (seleccion_humano == \"TIJERA\" and seleccion_maquina == \"PAPEL\") or \\\n",
    "         (seleccion_humano == \"PAPEL\" and seleccion_maquina == \"PIEDRA\"):\n",
    "        print(f\"¡¡¡Muy bien {nombre_jugador}!!! Me has ganado esta ronda amig@ humano\")\n",
    "        # Se suma un punto/victoria al jugador humano\n",
    "        rondas_humano += 1\n",
    "    else:\n",
    "        print(f\"Ooh, lo siento {nombre_jugador}, te he ganado esta ronda\")\n",
    "        # Se suma un punto/victoria al jugador humano\n",
    "        rondas_maquina += 1\n",
    "\n",
    "    # Puntuación actual\n",
    "    print(f\"Puntuación: {nombre_jugador} - {rondas_humano} \\n Contrincante Virtual - {rondas_maquina}\")\n",
    "\n",
    "# Determinación del ganador final\n",
    "if rondas_humano == 3:\n",
    "    print(f\"¡¡¡Felicidades {nombre_jugador}!!! Me has ganado con una puntuación de {rondas_humano} a {rondas_maquina}.\")\n",
    "else:\n",
    "    print(f\"Lo siento amig@ humano, he ganado el juego con una puntuación de {rondas_maquina} a {rondas_humano}. ¡Inténtalo de nuevo si quieres!\")\n",
    "\n",
    "\n"
   ]
  }
 ],
 "metadata": {
  "kernelspec": {
   "display_name": "base",
   "language": "python",
   "name": "python3"
  },
  "language_info": {
   "codemirror_mode": {
    "name": "ipython",
    "version": 3
   },
   "file_extension": ".py",
   "mimetype": "text/x-python",
   "name": "python",
   "nbconvert_exporter": "python",
   "pygments_lexer": "ipython3",
   "version": "3.12.7"
  }
 },
 "nbformat": 4,
 "nbformat_minor": 2
}
